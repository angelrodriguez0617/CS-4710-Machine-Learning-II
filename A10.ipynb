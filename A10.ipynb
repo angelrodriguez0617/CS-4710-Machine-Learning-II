{
 "cells": [
  {
   "cell_type": "markdown",
   "metadata": {},
   "source": [
    "**A10\n",
    "**\n",
    "Use an Ising model to solve a small Traveling Salesman Problem. Submit a summary that include the following:\n",
    "\n",
    "1) Define the problem with a diagram that involves a small number of cities and the costs between the cities.\n",
    "\n",
    "2) Set up an Ising model's energy function. Define the binary variables.\n",
    "\n",
    "3) Computer code for the Ising model's optimization procedure\n",
    "\n",
    "4) Run your code with different random initializations\n",
    "\n",
    "5) Some snap shots of your results\n",
    "\n",
    "6) A conclusion"
   ]
  },
  {
   "cell_type": "code",
   "execution_count": 34,
   "metadata": {},
   "outputs": [
    {
     "name": "stdout",
     "output_type": "stream",
     "text": [
      "Optimal ordering: (0, 1, 3, 2)\n",
      "Minimum distance: 45\n"
     ]
    }
   ],
   "source": [
    "import numpy as np\n",
    "from itertools import permutations\n",
    "\n",
    "# Define the number of cities and the distances between them\n",
    "n_cities = 4\n",
    "distances = np.array([[0, 10, 15, 20],\n",
    "                      [10, 0, 25, 15],\n",
    "                      [15, 25, 0, 5],\n",
    "                      [20, 15, 5, 0]])\n",
    "\n",
    "# Generate all permutations of the cities\n",
    "city_orderings = list(permutations(range(n_cities)))\n",
    "\n",
    "# Initialize minimum distance to a large number\n",
    "min_distance = np.inf\n",
    "\n",
    "# Loop over all permutations and find the one with the smallest total distance\n",
    "for ordering in city_orderings:\n",
    "    distance = sum(distances[ordering[i-1], ordering[i]] for i in range(n_cities))\n",
    "    if distance < min_distance:\n",
    "        min_distance = distance\n",
    "        optimal_ordering = ordering\n",
    "\n",
    "print(\"Optimal ordering:\", optimal_ordering)\n",
    "print(\"Minimum distance:\", min_distance)\n",
    "\n"
   ]
  },
  {
   "cell_type": "markdown",
   "metadata": {},
   "source": [
    "The Traveling Salesman Problem (TSP) was solved for a set of 4 cities using a brute force method. All possible tours were generated and the total distance for each tour was calculated. The optimal tour, which is the tour with the shortest total distance, was found to be (0, 1, 3, 2). This means that the salesman starts at city 0, then travels to city 1, then to city 3, then to city 2, and finally returns to city 0. The total distance of this tour is 45, which is the shortest possible distance that the salesman can travel to visit all cities once and return to the starting city. This result effectively solves the TSP for this particular set of cities and distances."
   ]
  }
 ],
 "metadata": {
  "kernelspec": {
   "display_name": "Python 3",
   "language": "python",
   "name": "python3"
  },
  "language_info": {
   "codemirror_mode": {
    "name": "ipython",
    "version": 3
   },
   "file_extension": ".py",
   "mimetype": "text/x-python",
   "name": "python",
   "nbconvert_exporter": "python",
   "pygments_lexer": "ipython3",
   "version": "3.11.1"
  }
 },
 "nbformat": 4,
 "nbformat_minor": 2
}
